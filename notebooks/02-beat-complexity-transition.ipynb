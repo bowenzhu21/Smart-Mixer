{
 "cells": [
  {
   "cell_type": "code",
   "execution_count": 2,
   "id": "5f465494",
   "metadata": {},
   "outputs": [],
   "source": [
    "import librosa\n",
    "import numpy as np\n",
    "import matplotlib.pyplot as plt\n",
    "import soundfile as sf\n",
    "from pydub import AudioSegment\n",
    "\n",
    "# Load full audio files\n",
    "file_path1 = \"../audio/test_clip_1.mp3\"\n",
    "file_path2 = \"../audio/test_clip_2.mp3\"\n",
    "y1, sr1 = librosa.load(file_path1)\n",
    "y2, sr2 = librosa.load(file_path2)"
   ]
  },
  {
   "cell_type": "code",
   "execution_count": 3,
   "id": "80b6d7cf",
   "metadata": {},
   "outputs": [],
   "source": [
    "transition_duration = 5  # seconds\n",
    "frames_A = int(transition_duration * sr1)\n",
    "frames_B = int(transition_duration * sr2)\n",
    "segment_A = y1[-frames_A:]\n",
    "segment_B = y2[:frames_B]"
   ]
  },
  {
   "cell_type": "code",
   "execution_count": 4,
   "id": "93d09181",
   "metadata": {},
   "outputs": [
    {
     "name": "stdout",
     "output_type": "stream",
     "text": [
      "Complexity A (end of song 1): 2.5075\n",
      "Complexity B (start of song 2): 2.8112\n"
     ]
    }
   ],
   "source": [
    "def compute_complexity(y_segment, sr):\n",
    "    onset_env = librosa.onset.onset_strength(y=y_segment, sr=sr)\n",
    "    return np.std(onset_env)\n",
    "\n",
    "complexity_A = compute_complexity(segment_A, sr1)\n",
    "complexity_B = compute_complexity(segment_B, sr2)\n",
    "print(f\"Complexity A (end of song 1): {complexity_A:.4f}\")\n",
    "print(f\"Complexity B (start of song 2): {complexity_B:.4f}\")"
   ]
  },
  {
   "cell_type": "code",
   "execution_count": 5,
   "id": "96dbb49a",
   "metadata": {},
   "outputs": [],
   "source": [
    "hop_length = 512\n",
    "if complexity_A < complexity_B:\n",
    "    rate = complexity_B / complexity_A\n",
    "    D = librosa.stft(segment_A)\n",
    "    D_stretched = librosa.phase_vocoder(D, rate=rate, hop_length=hop_length)\n",
    "    stretched_segment = librosa.istft(D_stretched, hop_length=hop_length)\n",
    "    sf.write(\"transition_stretched.wav\", stretched_segment, sr1)\n",
    "    sf.write(\"other_segment.wav\", segment_B, sr2)\n",
    "    simpler_first = True\n",
    "else:\n",
    "    rate = complexity_A / complexity_B\n",
    "    D = librosa.stft(segment_B)\n",
    "    D_stretched = librosa.phase_vocoder(D, rate=rate, hop_length=hop_length)\n",
    "    stretched_segment = librosa.istft(D_stretched, hop_length=hop_length)\n",
    "    sf.write(\"transition_stretched.wav\", stretched_segment, sr2)\n",
    "    sf.write(\"other_segment.wav\", segment_A, sr1)\n",
    "    simpler_first = False"
   ]
  },
  {
   "cell_type": "code",
   "execution_count": 6,
   "id": "f7290392",
   "metadata": {},
   "outputs": [
    {
     "data": {
      "text/plain": [
       "<_io.BufferedRandom name='../audio/transition_output.mp3'>"
      ]
     },
     "execution_count": 6,
     "metadata": {},
     "output_type": "execute_result"
    }
   ],
   "source": [
    "stretched_audio = AudioSegment.from_wav(\"transition_stretched.wav\")\n",
    "other_audio = AudioSegment.from_wav(\"other_segment.wav\")\n",
    "crossfade = stretched_audio.append(other_audio, crossfade=3000)\n",
    "crossfade.export(\"../audio/transition_output.mp3\", format=\"mp3\")"
   ]
  },
  {
   "cell_type": "code",
   "execution_count": 7,
   "id": "9698b983",
   "metadata": {},
   "outputs": [
    {
     "name": "stdout",
     "output_type": "stream",
     "text": [
      "✅ Final mix saved to audio/final_complexity_mix.mp3\n"
     ]
    }
   ],
   "source": [
    "full_song1 = AudioSegment.from_file(\"../audio/song1.wav\")\n",
    "full_song2 = AudioSegment.from_file(\"../audio/song2_stretched.wav\")\n",
    "\n",
    "if simpler_first:\n",
    "    song2_cut = full_song2[5000:]  # remove 5s from start if already in transition\n",
    "    final_mix = full_song1 + crossfade + song2_cut\n",
    "else:\n",
    "    song1_cut = full_song1[:-5000]  # remove 5s from end if already in transition\n",
    "    final_mix = song1_cut + crossfade + full_song2\n",
    "\n",
    "final_mix.export(\"../audio/final_complexity_mix.mp3\", format=\"mp3\")\n",
    "print(\"✅ Final mix saved to audio/final_complexity_mix.mp3\")"
   ]
  }
 ],
 "metadata": {
  "kernelspec": {
   "display_name": "venv",
   "language": "python",
   "name": "python3"
  },
  "language_info": {
   "codemirror_mode": {
    "name": "ipython",
    "version": 3
   },
   "file_extension": ".py",
   "mimetype": "text/x-python",
   "name": "python",
   "nbconvert_exporter": "python",
   "pygments_lexer": "ipython3",
   "version": "3.9.6"
  }
 },
 "nbformat": 4,
 "nbformat_minor": 5
}
